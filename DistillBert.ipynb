{
  "nbformat": 4,
  "nbformat_minor": 0,
  "metadata": {
    "colab": {
      "name": "DistillBert.ipynb",
      "provenance": [],
      "toc_visible": true,
      "machine_shape": "hm",
      "authorship_tag": "ABX9TyO13UMMBLnU8N3wAXIq3Y86",
      "include_colab_link": true
    },
    "kernelspec": {
      "name": "python3",
      "display_name": "Python 3"
    },
    "accelerator": "GPU"
  },
  "cells": [
    {
      "cell_type": "markdown",
      "metadata": {
        "id": "view-in-github",
        "colab_type": "text"
      },
      "source": [
        "<a href=\"https://colab.research.google.com/github/sahibpreetsingh12/Kaggle-Notebooks/blob/master/DistillBert.ipynb\" target=\"_parent\"><img src=\"https://colab.research.google.com/assets/colab-badge.svg\" alt=\"Open In Colab\"/></a>"
      ]
    },
    {
      "cell_type": "markdown",
      "metadata": {
        "id": "Po64d5sk6byn",
        "colab_type": "text"
      },
      "source": [
        "## Turning the Beast on"
      ]
    },
    {
      "cell_type": "markdown",
      "metadata": {
        "id": "oDqT1Qv_bdJ4",
        "colab_type": "text"
      },
      "source": [
        "This is the Part1 of 2 Part Notebooks in next Notebook we will Train our corpus on DistillBert this process is <font color='red'>Fine tuning</font>"
      ]
    },
    {
      "cell_type": "code",
      "metadata": {
        "id": "Ta-fvbyFsfq2",
        "colab_type": "code",
        "outputId": "05af1790-7f98-402c-a4b8-0e6bcfd2446f",
        "colab": {
          "base_uri": "https://localhost:8080/",
          "height": 36
        }
      },
      "source": [
        "import tensorflow as tf\n",
        "\n",
        "# Get the GPU device name.\n",
        "device_name = tf.test.gpu_device_name()\n",
        "\n",
        "# The device name should look like the following:\n",
        "if device_name == '/device:GPU:0':\n",
        "    print('Found GPU at: {}'.format(device_name))\n",
        "else:\n",
        "    raise SystemError('GPU device not found')"
      ],
      "execution_count": 0,
      "outputs": [
        {
          "output_type": "stream",
          "text": [
            "Found GPU at: /device:GPU:0\n"
          ],
          "name": "stdout"
        }
      ]
    },
    {
      "cell_type": "code",
      "metadata": {
        "id": "kJFlPeN1sxxD",
        "colab_type": "code",
        "outputId": "420c6d38-6736-4aab-8243-4629a4a6e30e",
        "colab": {
          "base_uri": "https://localhost:8080/",
          "height": 55
        }
      },
      "source": [
        "import torch\n",
        "\n",
        "# If there's a GPU available...\n",
        "if torch.cuda.is_available():    \n",
        "\n",
        "    # Tell PyTorch to use the GPU.    \n",
        "    device = torch.device(\"cuda\")\n",
        "\n",
        "    print('There are %d GPU(s) available.' % torch.cuda.device_count())\n",
        "\n",
        "    print('We will use the GPU:', torch.cuda.get_device_name(0))\n",
        "\n",
        "# If not...\n",
        "else:\n",
        "    print('No GPU available, using the CPU instead.')\n",
        "    device = torch.device(\"cpu\")"
      ],
      "execution_count": 0,
      "outputs": [
        {
          "output_type": "stream",
          "text": [
            "There are 1 GPU(s) available.\n",
            "We will use the GPU: Tesla K80\n"
          ],
          "name": "stdout"
        }
      ]
    },
    {
      "cell_type": "markdown",
      "metadata": {
        "id": "uXsJF_o865mF",
        "colab_type": "text"
      },
      "source": [
        "## Installing Hugging Face"
      ]
    },
    {
      "cell_type": "code",
      "metadata": {
        "id": "mW0Iare4s4H5",
        "colab_type": "code",
        "outputId": "4c72b955-fbf3-48a4-c4bf-9920e704717f",
        "colab": {
          "base_uri": "https://localhost:8080/",
          "height": 759
        }
      },
      "source": [
        "!pip install transformers"
      ],
      "execution_count": 0,
      "outputs": [
        {
          "output_type": "stream",
          "text": [
            "Collecting transformers\n",
            "\u001b[?25l  Downloading https://files.pythonhosted.org/packages/a3/78/92cedda05552398352ed9784908b834ee32a0bd071a9b32de287327370b7/transformers-2.8.0-py3-none-any.whl (563kB)\n",
            "\r\u001b[K     |▋                               | 10kB 20.2MB/s eta 0:00:01\r\u001b[K     |█▏                              | 20kB 1.7MB/s eta 0:00:01\r\u001b[K     |█▊                              | 30kB 2.3MB/s eta 0:00:01\r\u001b[K     |██▎                             | 40kB 2.5MB/s eta 0:00:01\r\u001b[K     |███                             | 51kB 2.0MB/s eta 0:00:01\r\u001b[K     |███▌                            | 61kB 2.2MB/s eta 0:00:01\r\u001b[K     |████                            | 71kB 2.5MB/s eta 0:00:01\r\u001b[K     |████▋                           | 81kB 2.7MB/s eta 0:00:01\r\u001b[K     |█████▎                          | 92kB 2.9MB/s eta 0:00:01\r\u001b[K     |█████▉                          | 102kB 2.8MB/s eta 0:00:01\r\u001b[K     |██████▍                         | 112kB 2.8MB/s eta 0:00:01\r\u001b[K     |███████                         | 122kB 2.8MB/s eta 0:00:01\r\u001b[K     |███████▋                        | 133kB 2.8MB/s eta 0:00:01\r\u001b[K     |████████▏                       | 143kB 2.8MB/s eta 0:00:01\r\u001b[K     |████████▊                       | 153kB 2.8MB/s eta 0:00:01\r\u001b[K     |█████████▎                      | 163kB 2.8MB/s eta 0:00:01\r\u001b[K     |█████████▉                      | 174kB 2.8MB/s eta 0:00:01\r\u001b[K     |██████████▌                     | 184kB 2.8MB/s eta 0:00:01\r\u001b[K     |███████████                     | 194kB 2.8MB/s eta 0:00:01\r\u001b[K     |███████████▋                    | 204kB 2.8MB/s eta 0:00:01\r\u001b[K     |████████████▏                   | 215kB 2.8MB/s eta 0:00:01\r\u001b[K     |████████████▉                   | 225kB 2.8MB/s eta 0:00:01\r\u001b[K     |█████████████▍                  | 235kB 2.8MB/s eta 0:00:01\r\u001b[K     |██████████████                  | 245kB 2.8MB/s eta 0:00:01\r\u001b[K     |██████████████▌                 | 256kB 2.8MB/s eta 0:00:01\r\u001b[K     |███████████████▏                | 266kB 2.8MB/s eta 0:00:01\r\u001b[K     |███████████████▊                | 276kB 2.8MB/s eta 0:00:01\r\u001b[K     |████████████████▎               | 286kB 2.8MB/s eta 0:00:01\r\u001b[K     |████████████████▉               | 296kB 2.8MB/s eta 0:00:01\r\u001b[K     |█████████████████▍              | 307kB 2.8MB/s eta 0:00:01\r\u001b[K     |██████████████████              | 317kB 2.8MB/s eta 0:00:01\r\u001b[K     |██████████████████▋             | 327kB 2.8MB/s eta 0:00:01\r\u001b[K     |███████████████████▏            | 337kB 2.8MB/s eta 0:00:01\r\u001b[K     |███████████████████▊            | 348kB 2.8MB/s eta 0:00:01\r\u001b[K     |████████████████████▍           | 358kB 2.8MB/s eta 0:00:01\r\u001b[K     |█████████████████████           | 368kB 2.8MB/s eta 0:00:01\r\u001b[K     |█████████████████████▌          | 378kB 2.8MB/s eta 0:00:01\r\u001b[K     |██████████████████████          | 389kB 2.8MB/s eta 0:00:01\r\u001b[K     |██████████████████████▊         | 399kB 2.8MB/s eta 0:00:01\r\u001b[K     |███████████████████████▎        | 409kB 2.8MB/s eta 0:00:01\r\u001b[K     |███████████████████████▉        | 419kB 2.8MB/s eta 0:00:01\r\u001b[K     |████████████████████████▍       | 430kB 2.8MB/s eta 0:00:01\r\u001b[K     |█████████████████████████       | 440kB 2.8MB/s eta 0:00:01\r\u001b[K     |█████████████████████████▋      | 450kB 2.8MB/s eta 0:00:01\r\u001b[K     |██████████████████████████▏     | 460kB 2.8MB/s eta 0:00:01\r\u001b[K     |██████████████████████████▊     | 471kB 2.8MB/s eta 0:00:01\r\u001b[K     |███████████████████████████▎    | 481kB 2.8MB/s eta 0:00:01\r\u001b[K     |████████████████████████████    | 491kB 2.8MB/s eta 0:00:01\r\u001b[K     |████████████████████████████▌   | 501kB 2.8MB/s eta 0:00:01\r\u001b[K     |█████████████████████████████   | 512kB 2.8MB/s eta 0:00:01\r\u001b[K     |█████████████████████████████▋  | 522kB 2.8MB/s eta 0:00:01\r\u001b[K     |██████████████████████████████▎ | 532kB 2.8MB/s eta 0:00:01\r\u001b[K     |██████████████████████████████▉ | 542kB 2.8MB/s eta 0:00:01\r\u001b[K     |███████████████████████████████▍| 552kB 2.8MB/s eta 0:00:01\r\u001b[K     |████████████████████████████████| 563kB 2.8MB/s eta 0:00:01\r\u001b[K     |████████████████████████████████| 573kB 2.8MB/s \n",
            "\u001b[?25hRequirement already satisfied: tqdm>=4.27 in /usr/local/lib/python3.6/dist-packages (from transformers) (4.38.0)\n",
            "Requirement already satisfied: dataclasses; python_version < \"3.7\" in /usr/local/lib/python3.6/dist-packages (from transformers) (0.7)\n",
            "Collecting sentencepiece\n",
            "\u001b[?25l  Downloading https://files.pythonhosted.org/packages/98/2c/8df20f3ac6c22ac224fff307ebc102818206c53fc454ecd37d8ac2060df5/sentencepiece-0.1.86-cp36-cp36m-manylinux1_x86_64.whl (1.0MB)\n",
            "\r\u001b[K     |▎                               | 10kB 21.8MB/s eta 0:00:01\r\u001b[K     |▋                               | 20kB 27.6MB/s eta 0:00:01\r\u001b[K     |█                               | 30kB 32.0MB/s eta 0:00:01\r\u001b[K     |█▎                              | 40kB 14.7MB/s eta 0:00:01\r\u001b[K     |█▋                              | 51kB 13.4MB/s eta 0:00:01\r\u001b[K     |██                              | 61kB 15.4MB/s eta 0:00:01\r\u001b[K     |██▏                             | 71kB 11.9MB/s eta 0:00:01\r\u001b[K     |██▌                             | 81kB 13.2MB/s eta 0:00:01\r\u001b[K     |██▉                             | 92kB 13.3MB/s eta 0:00:01\r\u001b[K     |███▏                            | 102kB 12.0MB/s eta 0:00:01\r\u001b[K     |███▌                            | 112kB 12.0MB/s eta 0:00:01\r\u001b[K     |███▉                            | 122kB 12.0MB/s eta 0:00:01\r\u001b[K     |████                            | 133kB 12.0MB/s eta 0:00:01\r\u001b[K     |████▍                           | 143kB 12.0MB/s eta 0:00:01\r\u001b[K     |████▊                           | 153kB 12.0MB/s eta 0:00:01\r\u001b[K     |█████                           | 163kB 12.0MB/s eta 0:00:01\r\u001b[K     |█████▍                          | 174kB 12.0MB/s eta 0:00:01\r\u001b[K     |█████▊                          | 184kB 12.0MB/s eta 0:00:01\r\u001b[K     |██████                          | 194kB 12.0MB/s eta 0:00:01\r\u001b[K     |██████▎                         | 204kB 12.0MB/s eta 0:00:01\r\u001b[K     |██████▋                         | 215kB 12.0MB/s eta 0:00:01\r\u001b[K     |███████                         | 225kB 12.0MB/s eta 0:00:01\r\u001b[K     |███████▎                        | 235kB 12.0MB/s eta 0:00:01\r\u001b[K     |███████▋                        | 245kB 12.0MB/s eta 0:00:01\r\u001b[K     |███████▉                        | 256kB 12.0MB/s eta 0:00:01\r\u001b[K     |████████▏                       | 266kB 12.0MB/s eta 0:00:01\r\u001b[K     |████████▌                       | 276kB 12.0MB/s eta 0:00:01\r\u001b[K     |████████▉                       | 286kB 12.0MB/s eta 0:00:01\r\u001b[K     |█████████▏                      | 296kB 12.0MB/s eta 0:00:01\r\u001b[K     |█████████▌                      | 307kB 12.0MB/s eta 0:00:01\r\u001b[K     |█████████▊                      | 317kB 12.0MB/s eta 0:00:01\r\u001b[K     |██████████                      | 327kB 12.0MB/s eta 0:00:01\r\u001b[K     |██████████▍                     | 337kB 12.0MB/s eta 0:00:01\r\u001b[K     |██████████▊                     | 348kB 12.0MB/s eta 0:00:01\r\u001b[K     |███████████                     | 358kB 12.0MB/s eta 0:00:01\r\u001b[K     |███████████▍                    | 368kB 12.0MB/s eta 0:00:01\r\u001b[K     |███████████▋                    | 378kB 12.0MB/s eta 0:00:01\r\u001b[K     |████████████                    | 389kB 12.0MB/s eta 0:00:01\r\u001b[K     |████████████▎                   | 399kB 12.0MB/s eta 0:00:01\r\u001b[K     |████████████▋                   | 409kB 12.0MB/s eta 0:00:01\r\u001b[K     |█████████████                   | 419kB 12.0MB/s eta 0:00:01\r\u001b[K     |█████████████▎                  | 430kB 12.0MB/s eta 0:00:01\r\u001b[K     |█████████████▌                  | 440kB 12.0MB/s eta 0:00:01\r\u001b[K     |█████████████▉                  | 450kB 12.0MB/s eta 0:00:01\r\u001b[K     |██████████████▏                 | 460kB 12.0MB/s eta 0:00:01\r\u001b[K     |██████████████▌                 | 471kB 12.0MB/s eta 0:00:01\r\u001b[K     |██████████████▉                 | 481kB 12.0MB/s eta 0:00:01\r\u001b[K     |███████████████▏                | 491kB 12.0MB/s eta 0:00:01\r\u001b[K     |███████████████▍                | 501kB 12.0MB/s eta 0:00:01\r\u001b[K     |███████████████▊                | 512kB 12.0MB/s eta 0:00:01\r\u001b[K     |████████████████                | 522kB 12.0MB/s eta 0:00:01\r\u001b[K     |████████████████▍               | 532kB 12.0MB/s eta 0:00:01\r\u001b[K     |████████████████▊               | 542kB 12.0MB/s eta 0:00:01\r\u001b[K     |█████████████████               | 552kB 12.0MB/s eta 0:00:01\r\u001b[K     |█████████████████▎              | 563kB 12.0MB/s eta 0:00:01\r\u001b[K     |█████████████████▋              | 573kB 12.0MB/s eta 0:00:01\r\u001b[K     |██████████████████              | 583kB 12.0MB/s eta 0:00:01\r\u001b[K     |██████████████████▎             | 593kB 12.0MB/s eta 0:00:01\r\u001b[K     |██████████████████▋             | 604kB 12.0MB/s eta 0:00:01\r\u001b[K     |███████████████████             | 614kB 12.0MB/s eta 0:00:01\r\u001b[K     |███████████████████▏            | 624kB 12.0MB/s eta 0:00:01\r\u001b[K     |███████████████████▌            | 634kB 12.0MB/s eta 0:00:01\r\u001b[K     |███████████████████▉            | 645kB 12.0MB/s eta 0:00:01\r\u001b[K     |████████████████████▏           | 655kB 12.0MB/s eta 0:00:01\r\u001b[K     |████████████████████▌           | 665kB 12.0MB/s eta 0:00:01\r\u001b[K     |████████████████████▉           | 675kB 12.0MB/s eta 0:00:01\r\u001b[K     |█████████████████████▏          | 686kB 12.0MB/s eta 0:00:01\r\u001b[K     |█████████████████████▍          | 696kB 12.0MB/s eta 0:00:01\r\u001b[K     |█████████████████████▊          | 706kB 12.0MB/s eta 0:00:01\r\u001b[K     |██████████████████████          | 716kB 12.0MB/s eta 0:00:01\r\u001b[K     |██████████████████████▍         | 727kB 12.0MB/s eta 0:00:01\r\u001b[K     |██████████████████████▊         | 737kB 12.0MB/s eta 0:00:01\r\u001b[K     |███████████████████████         | 747kB 12.0MB/s eta 0:00:01\r\u001b[K     |███████████████████████▎        | 757kB 12.0MB/s eta 0:00:01\r\u001b[K     |███████████████████████▋        | 768kB 12.0MB/s eta 0:00:01\r\u001b[K     |████████████████████████        | 778kB 12.0MB/s eta 0:00:01\r\u001b[K     |████████████████████████▎       | 788kB 12.0MB/s eta 0:00:01\r\u001b[K     |████████████████████████▋       | 798kB 12.0MB/s eta 0:00:01\r\u001b[K     |█████████████████████████       | 808kB 12.0MB/s eta 0:00:01\r\u001b[K     |█████████████████████████▏      | 819kB 12.0MB/s eta 0:00:01\r\u001b[K     |█████████████████████████▌      | 829kB 12.0MB/s eta 0:00:01\r\u001b[K     |█████████████████████████▉      | 839kB 12.0MB/s eta 0:00:01\r\u001b[K     |██████████████████████████▏     | 849kB 12.0MB/s eta 0:00:01\r\u001b[K     |██████████████████████████▌     | 860kB 12.0MB/s eta 0:00:01\r\u001b[K     |██████████████████████████▉     | 870kB 12.0MB/s eta 0:00:01\r\u001b[K     |███████████████████████████     | 880kB 12.0MB/s eta 0:00:01\r\u001b[K     |███████████████████████████▍    | 890kB 12.0MB/s eta 0:00:01\r\u001b[K     |███████████████████████████▊    | 901kB 12.0MB/s eta 0:00:01\r\u001b[K     |████████████████████████████    | 911kB 12.0MB/s eta 0:00:01\r\u001b[K     |████████████████████████████▍   | 921kB 12.0MB/s eta 0:00:01\r\u001b[K     |████████████████████████████▊   | 931kB 12.0MB/s eta 0:00:01\r\u001b[K     |█████████████████████████████   | 942kB 12.0MB/s eta 0:00:01\r\u001b[K     |█████████████████████████████▎  | 952kB 12.0MB/s eta 0:00:01\r\u001b[K     |█████████████████████████████▋  | 962kB 12.0MB/s eta 0:00:01\r\u001b[K     |██████████████████████████████  | 972kB 12.0MB/s eta 0:00:01\r\u001b[K     |██████████████████████████████▎ | 983kB 12.0MB/s eta 0:00:01\r\u001b[K     |██████████████████████████████▋ | 993kB 12.0MB/s eta 0:00:01\r\u001b[K     |██████████████████████████████▉ | 1.0MB 12.0MB/s eta 0:00:01\r\u001b[K     |███████████████████████████████▏| 1.0MB 12.0MB/s eta 0:00:01\r\u001b[K     |███████████████████████████████▌| 1.0MB 12.0MB/s eta 0:00:01\r\u001b[K     |███████████████████████████████▉| 1.0MB 12.0MB/s eta 0:00:01\r\u001b[K     |████████████████████████████████| 1.0MB 12.0MB/s \n",
            "\u001b[?25hRequirement already satisfied: numpy in /usr/local/lib/python3.6/dist-packages (from transformers) (1.18.3)\n",
            "Requirement already satisfied: filelock in /usr/local/lib/python3.6/dist-packages (from transformers) (3.0.12)\n",
            "Collecting tokenizers==0.5.2\n",
            "\u001b[?25l  Downloading https://files.pythonhosted.org/packages/d1/3f/73c881ea4723e43c1e9acf317cf407fab3a278daab3a69c98dcac511c04f/tokenizers-0.5.2-cp36-cp36m-manylinux1_x86_64.whl (3.7MB)\n",
            "\u001b[K     |████████████████████████████████| 3.7MB 17.3MB/s \n",
            "\u001b[?25hCollecting sacremoses\n",
            "\u001b[?25l  Downloading https://files.pythonhosted.org/packages/7d/34/09d19aff26edcc8eb2a01bed8e98f13a1537005d31e95233fd48216eed10/sacremoses-0.0.43.tar.gz (883kB)\n",
            "\u001b[K     |████████████████████████████████| 890kB 39.2MB/s \n",
            "\u001b[?25hRequirement already satisfied: regex!=2019.12.17 in /usr/local/lib/python3.6/dist-packages (from transformers) (2019.12.20)\n",
            "Requirement already satisfied: boto3 in /usr/local/lib/python3.6/dist-packages (from transformers) (1.13.1)\n",
            "Requirement already satisfied: requests in /usr/local/lib/python3.6/dist-packages (from transformers) (2.23.0)\n",
            "Requirement already satisfied: six in /usr/local/lib/python3.6/dist-packages (from sacremoses->transformers) (1.12.0)\n",
            "Requirement already satisfied: click in /usr/local/lib/python3.6/dist-packages (from sacremoses->transformers) (7.1.2)\n",
            "Requirement already satisfied: joblib in /usr/local/lib/python3.6/dist-packages (from sacremoses->transformers) (0.14.1)\n",
            "Requirement already satisfied: jmespath<1.0.0,>=0.7.1 in /usr/local/lib/python3.6/dist-packages (from boto3->transformers) (0.9.5)\n",
            "Requirement already satisfied: botocore<1.17.0,>=1.16.1 in /usr/local/lib/python3.6/dist-packages (from boto3->transformers) (1.16.1)\n",
            "Requirement already satisfied: s3transfer<0.4.0,>=0.3.0 in /usr/local/lib/python3.6/dist-packages (from boto3->transformers) (0.3.3)\n",
            "Requirement already satisfied: certifi>=2017.4.17 in /usr/local/lib/python3.6/dist-packages (from requests->transformers) (2020.4.5.1)\n",
            "Requirement already satisfied: chardet<4,>=3.0.2 in /usr/local/lib/python3.6/dist-packages (from requests->transformers) (3.0.4)\n",
            "Requirement already satisfied: urllib3!=1.25.0,!=1.25.1,<1.26,>=1.21.1 in /usr/local/lib/python3.6/dist-packages (from requests->transformers) (1.24.3)\n",
            "Requirement already satisfied: idna<3,>=2.5 in /usr/local/lib/python3.6/dist-packages (from requests->transformers) (2.9)\n",
            "Requirement already satisfied: python-dateutil<3.0.0,>=2.1 in /usr/local/lib/python3.6/dist-packages (from botocore<1.17.0,>=1.16.1->boto3->transformers) (2.8.1)\n",
            "Requirement already satisfied: docutils<0.16,>=0.10 in /usr/local/lib/python3.6/dist-packages (from botocore<1.17.0,>=1.16.1->boto3->transformers) (0.15.2)\n",
            "Building wheels for collected packages: sacremoses\n",
            "  Building wheel for sacremoses (setup.py) ... \u001b[?25l\u001b[?25hdone\n",
            "  Created wheel for sacremoses: filename=sacremoses-0.0.43-cp36-none-any.whl size=893260 sha256=d202b9981ddcbf5ca1e6889c690ee1b9bd4450c9236849d3b23618f89e99c686\n",
            "  Stored in directory: /root/.cache/pip/wheels/29/3c/fd/7ce5c3f0666dab31a50123635e6fb5e19ceb42ce38d4e58f45\n",
            "Successfully built sacremoses\n",
            "Installing collected packages: sentencepiece, tokenizers, sacremoses, transformers\n",
            "Successfully installed sacremoses-0.0.43 sentencepiece-0.1.86 tokenizers-0.5.2 transformers-2.8.0\n"
          ],
          "name": "stdout"
        }
      ]
    },
    {
      "cell_type": "markdown",
      "metadata": {
        "id": "jvJbbmio7RQX",
        "colab_type": "text"
      },
      "source": [
        "## Importing Libraries"
      ]
    },
    {
      "cell_type": "code",
      "metadata": {
        "id": "eoAZYQNU7LKl",
        "colab_type": "code",
        "colab": {}
      },
      "source": [
        "import numpy as np\n",
        "import pandas as pd\n",
        "import torch\n",
        "from sklearn.linear_model import LogisticRegression\n",
        "from sklearn.model_selection import cross_val_score\n",
        "from sklearn.model_selection import train_test_split"
      ],
      "execution_count": 0,
      "outputs": []
    },
    {
      "cell_type": "markdown",
      "metadata": {
        "id": "ul_clj281AAX",
        "colab_type": "text"
      },
      "source": [
        "## 1. Loading Dataset\n",
        "For this task we will use SST2  Dataset from [here](https://github.com/clairett/pytorch-sentiment-classification/)\n"
      ]
    },
    {
      "cell_type": "code",
      "metadata": {
        "id": "65BHOwFWgAiC",
        "colab_type": "code",
        "outputId": "7de5ca45-80d7-4eab-9c88-7a82f2ae3dff",
        "colab": {
          "base_uri": "https://localhost:8080/",
          "height": 204
        }
      },
      "source": [
        "df = pd.read_csv('https://github.com/clairett/pytorch-sentiment-classification/raw/master/data/SST2/train.tsv', delimiter='\\t', header=None)\n",
        "df.head()"
      ],
      "execution_count": 0,
      "outputs": [
        {
          "output_type": "execute_result",
          "data": {
            "text/html": [
              "<div>\n",
              "<style scoped>\n",
              "    .dataframe tbody tr th:only-of-type {\n",
              "        vertical-align: middle;\n",
              "    }\n",
              "\n",
              "    .dataframe tbody tr th {\n",
              "        vertical-align: top;\n",
              "    }\n",
              "\n",
              "    .dataframe thead th {\n",
              "        text-align: right;\n",
              "    }\n",
              "</style>\n",
              "<table border=\"1\" class=\"dataframe\">\n",
              "  <thead>\n",
              "    <tr style=\"text-align: right;\">\n",
              "      <th></th>\n",
              "      <th>0</th>\n",
              "      <th>1</th>\n",
              "    </tr>\n",
              "  </thead>\n",
              "  <tbody>\n",
              "    <tr>\n",
              "      <th>0</th>\n",
              "      <td>a stirring , funny and finally transporting re...</td>\n",
              "      <td>1</td>\n",
              "    </tr>\n",
              "    <tr>\n",
              "      <th>1</th>\n",
              "      <td>apparently reassembled from the cutting room f...</td>\n",
              "      <td>0</td>\n",
              "    </tr>\n",
              "    <tr>\n",
              "      <th>2</th>\n",
              "      <td>they presume their audience wo n't sit still f...</td>\n",
              "      <td>0</td>\n",
              "    </tr>\n",
              "    <tr>\n",
              "      <th>3</th>\n",
              "      <td>this is a visually stunning rumination on love...</td>\n",
              "      <td>1</td>\n",
              "    </tr>\n",
              "    <tr>\n",
              "      <th>4</th>\n",
              "      <td>jonathan parker 's bartleby should have been t...</td>\n",
              "      <td>1</td>\n",
              "    </tr>\n",
              "  </tbody>\n",
              "</table>\n",
              "</div>"
            ],
            "text/plain": [
              "                                                   0  1\n",
              "0  a stirring , funny and finally transporting re...  1\n",
              "1  apparently reassembled from the cutting room f...  0\n",
              "2  they presume their audience wo n't sit still f...  0\n",
              "3  this is a visually stunning rumination on love...  1\n",
              "4  jonathan parker 's bartleby should have been t...  1"
            ]
          },
          "metadata": {
            "tags": []
          },
          "execution_count": 87
        }
      ]
    },
    {
      "cell_type": "markdown",
      "metadata": {
        "id": "C1c-Nype8Chy",
        "colab_type": "text"
      },
      "source": [
        "## Some Visualisation "
      ]
    },
    {
      "cell_type": "code",
      "metadata": {
        "id": "ipz6_QjPQCeN",
        "colab_type": "code",
        "outputId": "5644215e-be23-43ba-fd77-e2835805e46b",
        "colab": {
          "base_uri": "https://localhost:8080/",
          "height": 36
        }
      },
      "source": [
        "df.columns"
      ],
      "execution_count": 0,
      "outputs": [
        {
          "output_type": "execute_result",
          "data": {
            "text/plain": [
              "Int64Index([0, 1], dtype='int64')"
            ]
          },
          "metadata": {
            "tags": []
          },
          "execution_count": 88
        }
      ]
    },
    {
      "cell_type": "markdown",
      "metadata": {
        "id": "Jw_eubfF8bC2",
        "colab_type": "text"
      },
      "source": [
        "0 column represents our movie reviews and \n",
        "\n",
        "1 column represents their label\n",
        "where Zero represents negative movie review and 1 represnts positive review"
      ]
    },
    {
      "cell_type": "code",
      "metadata": {
        "id": "EXk3IE-CgV83",
        "colab_type": "code",
        "outputId": "5b6719f7-e144-420e-8be1-3ebec482c0df",
        "colab": {
          "base_uri": "https://localhost:8080/",
          "height": 74
        }
      },
      "source": [
        "df[1].value_counts()"
      ],
      "execution_count": 0,
      "outputs": [
        {
          "output_type": "execute_result",
          "data": {
            "text/plain": [
              "1    3610\n",
              "0    3310\n",
              "Name: 1, dtype: int64"
            ]
          },
          "metadata": {
            "tags": []
          },
          "execution_count": 35
        }
      ]
    },
    {
      "cell_type": "markdown",
      "metadata": {
        "id": "Lw0SHDRv8xlF",
        "colab_type": "text"
      },
      "source": [
        "## So it is clear from above that it is <font color='green'>Balanced Dataset</font>\n",
        "## This means we can use <font color='red'>**Accuracy**</font> as metric."
      ]
    },
    {
      "cell_type": "markdown",
      "metadata": {
        "id": "sTnCcl3J9ek1",
        "colab_type": "text"
      },
      "source": [
        "# Tokenization & Input Formatting for <font color='blue'>BERT</font>\n"
      ]
    },
    {
      "cell_type": "markdown",
      "metadata": {
        "id": "dwZbb8bx9tJr",
        "colab_type": "text"
      },
      "source": [
        "## 2.1 Distill Bert Tokenizer\n",
        "To feed our text to BERT, it must be split into tokens, and then these tokens must be mapped to their index in the tokenizer vocabulary."
      ]
    },
    {
      "cell_type": "code",
      "metadata": {
        "id": "8fIjE2CKCKMx",
        "colab_type": "code",
        "colab": {}
      },
      "source": [
        "import transformers"
      ],
      "execution_count": 0,
      "outputs": []
    },
    {
      "cell_type": "code",
      "metadata": {
        "id": "HT4bBQLR4Q3e",
        "colab_type": "code",
        "outputId": "2044abd7-d7ed-4058-963c-bff71c462aab",
        "colab": {
          "base_uri": "https://localhost:8080/",
          "height": 36
        }
      },
      "source": [
        "from transformers import DistilBertTokenizer\n",
        "\n",
        "# Load the DistillBERT tokenizer.\n",
        "print('Loading DistillBERT tokenizer...')\n",
        "tokenizer = DistilBertTokenizer.from_pretrained('distilbert-base-uncased', do_lower_case=True)# convertiing evry input to lower case"
      ],
      "execution_count": 0,
      "outputs": [
        {
          "output_type": "stream",
          "text": [
            "Loading DistillBERT tokenizer...\n"
          ],
          "name": "stdout"
        }
      ]
    },
    {
      "cell_type": "markdown",
      "metadata": {
        "id": "zBUXjjkL-3bp",
        "colab_type": "text"
      },
      "source": [
        "# Let's See What we have got after <font color='orange'>Tokenisation</font>"
      ]
    },
    {
      "cell_type": "code",
      "metadata": {
        "id": "n6Hv29NjQNCv",
        "colab_type": "code",
        "outputId": "48bcc880-3642-4fc9-9ddc-911359703a80",
        "colab": {
          "base_uri": "https://localhost:8080/",
          "height": 74
        }
      },
      "source": [
        "# Print the original sentence.\n",
        "print(' Original: ', df[0][0])\n",
        "\n",
        "# Print the sentence split into tokens.\n",
        "print('Tokenized: ', tokenizer.tokenize(df[0][0]))\n",
        "\n",
        "# Print the sentence mapped to token ids.\n",
        "print('Token IDs: ', tokenizer.convert_tokens_to_ids(tokenizer.tokenize(df[0][0])))"
      ],
      "execution_count": 0,
      "outputs": [
        {
          "output_type": "stream",
          "text": [
            " Original:  a stirring , funny and finally transporting re imagining of beauty and the beast and 1930s horror films\n",
            "Tokenized:  ['a', 'stirring', ',', 'funny', 'and', 'finally', 'transporting', 're', 'imagining', 'of', 'beauty', 'and', 'the', 'beast', 'and', '1930s', 'horror', 'films']\n",
            "Token IDs:  [1037, 18385, 1010, 6057, 1998, 2633, 18276, 2128, 16603, 1997, 5053, 1998, 1996, 6841, 1998, 5687, 5469, 3152]\n"
          ],
          "name": "stdout"
        }
      ]
    },
    {
      "cell_type": "markdown",
      "metadata": {
        "id": "TzbskrJ5ADQh",
        "colab_type": "text"
      },
      "source": [
        "\n",
        "*   For Experimentation in This Notebook we wil use  <font               color='orange'>DistillBert</font> directly(i.e will not train it on our data) \n",
        "*   And In <font color='orange'>Second Part</font> We will Train our DistillBert on our Data\n",
        "\n"
      ]
    },
    {
      "cell_type": "markdown",
      "metadata": {
        "id": "pGpq2z4hBIK-",
        "colab_type": "text"
      },
      "source": [
        "## Loading Our <font color='pink'>Bad Boy </font>\n"
      ]
    },
    {
      "cell_type": "code",
      "metadata": {
        "id": "o_15n5fEheRB",
        "colab_type": "code",
        "colab": {}
      },
      "source": [
        "model, pretrained_weights = (transformers.DistilBertModel, 'distilbert-base-uncased')"
      ],
      "execution_count": 0,
      "outputs": []
    },
    {
      "cell_type": "code",
      "metadata": {
        "id": "Qz5ITK1qQSDh",
        "colab_type": "code",
        "colab": {}
      },
      "source": [
        "model = model.from_pretrained(pretrained_weights)"
      ],
      "execution_count": 0,
      "outputs": []
    },
    {
      "cell_type": "markdown",
      "metadata": {
        "id": "6rAIfqTlCdlK",
        "colab_type": "text"
      },
      "source": [
        " Above we use `convert_tokens_to_ids` to just tokenise our input we will now use ` tokenizer.encode` funcion that fullfills all our input requirements. Input requiremnts. for <font color='orange'>BERT</font> or Even Other Transformers  are :-\n",
        "\n",
        "\n",
        "1.   All the Input sentences to Transfromer model must be of Same length.\n",
        "1.   Add special tokens to the start and end of each sentence.\n",
        "2.   **Pad** & **truncate** all sentences to a single constant length.Because ***BERT*** is pretrained model and it has fixed Maximum Input Size of <font color='orange'>512</font> tokens\n",
        "3.   Explicitly differentiate real tokens from padding tokens with the \"attention mask\".\n",
        "\n",
        "Now Attention Masks are very special .Suppose one of our input sentence after tokenisation has 8 tokens it means our <font color='orange'>Real Tokens are 8</font> and suppose we have set our Maximum Length to 10 tokens so we will pad Zeros to at the right of Sentence . So now to diffrentiate between Real tokens and Padded tokens we add <font color='orange'>Attention Masks</font>\n",
        "\n",
        "\n",
        "```\n",
        "We can only Padding Tokens to right of sentence in BERT( it is a pretrained mdel)\n",
        "```\n",
        "\n",
        "\n"
      ]
    },
    {
      "cell_type": "markdown",
      "metadata": {
        "id": "bxLjlhJ_Io4L",
        "colab_type": "text"
      },
      "source": [
        "## Padding Tokens\n",
        "\n",
        "Padding is done with a special `[PAD]` token, which is at index 0 in the BERT vocabulary. The below illustration demonstrates padding out to a \"MAX_LEN\" of 8 tokens.\n",
        "\n",
        "![alt text](http://www.mccormickml.com/assets/BERT/padding_and_mask.png)"
      ]
    },
    {
      "cell_type": "markdown",
      "metadata": {
        "id": "L2ZCZXgwG44u",
        "colab_type": "text"
      },
      "source": [
        "## Special Tokens\n",
        "\n",
        "`[SEP]`\n",
        "\n",
        "At the end of every sentence, we need to append the special [SEP] token.\n",
        "\n",
        "This token is an separator of two-sentence tasks, where BERT is given two separate sentences and asked to determine something (e.g., can the answer to the question in sentence A be found in sentence B?).\n",
        "\n",
        "\n",
        "And We have to use this token even for single sentences.\n",
        "\n",
        "`[CLS]`\n",
        "\n",
        "For classification tasks, we must prepend the special `[CLS]` token to the beginning of every sentence.\n",
        "\n",
        "This token has special significance. BERT consists of 12 Transformer layers. Each transformer takes in a list of token embeddings, and produces the same number of embeddings on the output (but with the feature values changed, of course!).\n",
        "\n",
        "![alt text](http://mccormickml.com/assets/BERT/CLS_token_500x606.png)\n",
        "\n",
        "\n",
        "On the output of the final (12th) transformer, only the first embedding (corresponding to the `[CLS]` token) is used by the classifier.\n",
        "\n",
        "` The first token of every sequence is always a special classification token `([CLS]`). The final hidden state corresponding to this token is used as the aggregate sequence representation for classification tasks. `\n",
        "\n",
        "Also, because BERT is trained to only use this `[CLS]` token for classification, we know that the model has been motivated to encode everything it needs for the classification step into that single 768-value embedding vector."
      ]
    },
    {
      "cell_type": "markdown",
      "metadata": {
        "id": "edzkDDBlLift",
        "colab_type": "text"
      },
      "source": [
        "## Tokenisation"
      ]
    },
    {
      "cell_type": "code",
      "metadata": {
        "id": "5cToRWLHQScy",
        "colab_type": "code",
        "colab": {}
      },
      "source": [
        "tokenized = df[0].apply((lambda x: tokenizer.encode(x, add_special_tokens=True)))"
      ],
      "execution_count": 0,
      "outputs": []
    },
    {
      "cell_type": "markdown",
      "metadata": {
        "id": "eYOM8tFxL-ly",
        "colab_type": "text"
      },
      "source": [
        "![alt text](https://jalammar.github.io/images/distilBERT/sst2-text-to-tokenized-ids-bert-example.png)\n"
      ]
    },
    {
      "cell_type": "markdown",
      "metadata": {
        "id": "XWd8PxGtMTFB",
        "colab_type": "text"
      },
      "source": [
        "Cuurently we have Series/Dataframe of list but we have to convert it tensor for input to `DistillBert`"
      ]
    },
    {
      "cell_type": "markdown",
      "metadata": {
        "id": "O30yHAjyNJ_j",
        "colab_type": "text"
      },
      "source": [
        "# Padding\n"
      ]
    },
    {
      "cell_type": "code",
      "metadata": {
        "id": "SqeEnLiCM7Px",
        "colab_type": "code",
        "colab": {}
      },
      "source": [
        "# Padding\n",
        "max_len = 0\n",
        "for i in tokenized.values:\n",
        "    if len(i) > max_len:\n",
        "        max_len = len(i)\n",
        "\n",
        "padded = np.array([i + [0]*(max_len-len(i)) for i in tokenized.values])"
      ],
      "execution_count": 0,
      "outputs": []
    },
    {
      "cell_type": "code",
      "metadata": {
        "id": "yN86mZjJO5lm",
        "colab_type": "code",
        "outputId": "564fb4bf-366e-4a13-eb4a-a8a513c686a8",
        "colab": {
          "base_uri": "https://localhost:8080/",
          "height": 36
        }
      },
      "source": [
        "print(padded.shape)\n"
      ],
      "execution_count": 0,
      "outputs": [
        {
          "output_type": "stream",
          "text": [
            "(6920, 67)\n"
          ],
          "name": "stdout"
        }
      ]
    },
    {
      "cell_type": "markdown",
      "metadata": {
        "id": "xw2trIBqPLEs",
        "colab_type": "text"
      },
      "source": [
        "## See what we got after Padding"
      ]
    },
    {
      "cell_type": "code",
      "metadata": {
        "id": "B5nkS4IVPKqt",
        "colab_type": "code",
        "outputId": "82df130b-50ba-4583-df40-d1877681ca8b",
        "colab": {
          "base_uri": "https://localhost:8080/",
          "height": 302
        }
      },
      "source": [
        "# Print the original sentence.\n",
        "print(' Original: ', df[0][0])\n",
        "print('\\n')\n",
        "# Print the sentence split into tokens.\n",
        "print('Tokenized: ', tokenizer.tokenize(df[0][0]))\n",
        "print('\\n')\n",
        "# Print the sentence mapped to token ids.\n",
        "print('Token IDs: ', tokenizer.convert_tokens_to_ids(tokenizer.tokenize(df[0][0])))\n",
        "print('\\n')\n",
        "# padded sentence\n",
        "print(padded[0])"
      ],
      "execution_count": 0,
      "outputs": [
        {
          "output_type": "stream",
          "text": [
            " Original:  a stirring , funny and finally transporting re imagining of beauty and the beast and 1930s horror films\n",
            "\n",
            "\n",
            "Tokenized:  ['a', 'stirring', ',', 'funny', 'and', 'finally', 'transporting', 're', 'imagining', 'of', 'beauty', 'and', 'the', 'beast', 'and', '1930s', 'horror', 'films']\n",
            "\n",
            "\n",
            "Token IDs:  [1037, 18385, 1010, 6057, 1998, 2633, 18276, 2128, 16603, 1997, 5053, 1998, 1996, 6841, 1998, 5687, 5469, 3152]\n",
            "\n",
            "\n",
            "[  101  1037 18385  1010  6057  1998  2633 18276  2128 16603  1997  5053\n",
            "  1998  1996  6841  1998  5687  5469  3152   102     0     0     0     0\n",
            "     0     0     0     0     0     0     0     0     0     0     0     0\n",
            "     0     0     0     0     0     0     0     0     0     0     0     0\n",
            "     0     0     0     0     0     0     0     0     0     0     0     0\n",
            "     0     0     0     0     0     0     0]\n"
          ],
          "name": "stdout"
        }
      ]
    },
    {
      "cell_type": "markdown",
      "metadata": {
        "id": "Ht-JCbBSNEWp",
        "colab_type": "text"
      },
      "source": [
        "# Masking / Attention-Masking"
      ]
    },
    {
      "cell_type": "code",
      "metadata": {
        "id": "8OYy-NcnNIKX",
        "colab_type": "code",
        "outputId": "1c8128c1-2ead-4047-c5c6-ff3444d8e898",
        "colab": {
          "base_uri": "https://localhost:8080/",
          "height": 36
        }
      },
      "source": [
        "attention_mask = np.where(padded != 0, 1, 0)\n",
        "attention_mask.shape"
      ],
      "execution_count": 0,
      "outputs": [
        {
          "output_type": "execute_result",
          "data": {
            "text/plain": [
              "(6920, 67)"
            ]
          },
          "metadata": {
            "tags": []
          },
          "execution_count": 96
        }
      ]
    },
    {
      "cell_type": "markdown",
      "metadata": {
        "id": "XMy5OTeLNjEB",
        "colab_type": "text"
      },
      "source": [
        "# Our Model\n",
        "![alt text](https://camo.githubusercontent.com/7c092d2fd20a0cd922bdd15a862e31155f6adcb7/68747470733a2f2f6a616c616d6d61722e6769746875622e696f2f696d616765732f64697374696c424552542f626572742d64697374696c626572742d7475746f7269616c2d73656e74656e63652d656d62656464696e672e706e67)"
      ]
    },
    {
      "cell_type": "code",
      "metadata": {
        "id": "9hVGIxN5OyLh",
        "colab_type": "code",
        "outputId": "25b5fae1-cb9d-4b3d-e241-2852ec899871",
        "colab": {
          "base_uri": "https://localhost:8080/",
          "height": 36
        }
      },
      "source": [
        "df.shape"
      ],
      "execution_count": 0,
      "outputs": [
        {
          "output_type": "execute_result",
          "data": {
            "text/plain": [
              "(6920, 2)"
            ]
          },
          "metadata": {
            "tags": []
          },
          "execution_count": 44
        }
      ]
    },
    {
      "cell_type": "code",
      "metadata": {
        "id": "IKR5BTcBP0Ji",
        "colab_type": "code",
        "colab": {}
      },
      "source": [
        "input_ids = torch.tensor(padded)   # converting into torch tensors\n",
        "attention_mask = torch.tensor(attention_mask) # converting into torch tensors"
      ],
      "execution_count": 0,
      "outputs": []
    },
    {
      "cell_type": "markdown",
      "metadata": {
        "id": "xe-uI5GYOb7o",
        "colab_type": "text"
      },
      "source": [
        "`The model() function runs our sentences through BERT. The results of the processing will be returned into last_hidden_states.`\n",
        "\n",
        "SO this can take time\n"
      ]
    },
    {
      "cell_type": "code",
      "metadata": {
        "id": "PDNdGN8QRefp",
        "colab_type": "code",
        "colab": {}
      },
      "source": [
        "with torch.no_grad():\n",
        "    last_hidden_states = model(input_ids, attention_mask=attention_mask)"
      ],
      "execution_count": 0,
      "outputs": []
    },
    {
      "cell_type": "code",
      "metadata": {
        "id": "b2--0Yom6EwA",
        "colab_type": "code",
        "colab": {}
      },
      "source": [
        "features = last_hidden_states[0][:,0,:].numpy()"
      ],
      "execution_count": 0,
      "outputs": []
    },
    {
      "cell_type": "code",
      "metadata": {
        "id": "qWgfbgr1Qkf-",
        "colab_type": "code",
        "colab": {}
      },
      "source": [
        "labels = df[1] # getting labels"
      ],
      "execution_count": 0,
      "outputs": []
    },
    {
      "cell_type": "markdown",
      "metadata": {
        "id": "dr6YxMIKaffb",
        "colab_type": "text"
      },
      "source": [
        "# Splitting Data for training and Testing"
      ]
    },
    {
      "cell_type": "code",
      "metadata": {
        "id": "apYpGkQ-Qn8j",
        "colab_type": "code",
        "colab": {}
      },
      "source": [
        "train_features, test_features, train_labels, test_labels = train_test_split(features, labels)"
      ],
      "execution_count": 0,
      "outputs": []
    },
    {
      "cell_type": "code",
      "metadata": {
        "id": "ye4gDEfQ6bNO",
        "colab_type": "code",
        "outputId": "63f55b11-34ab-49a6-d499-f18e5e94e8bd",
        "colab": {
          "base_uri": "https://localhost:8080/",
          "height": 112
        }
      },
      "source": [
        "lr_clf = LogisticRegression(C=5.2, max_iter=2000)\n",
        "lr_clf.fit(train_features, train_labels)"
      ],
      "execution_count": 0,
      "outputs": [
        {
          "output_type": "execute_result",
          "data": {
            "text/plain": [
              "LogisticRegression(C=5.2, class_weight=None, dual=False, fit_intercept=True,\n",
              "                   intercept_scaling=1, l1_ratio=None, max_iter=2000,\n",
              "                   multi_class='auto', n_jobs=None, penalty='l2',\n",
              "                   random_state=None, solver='lbfgs', tol=0.0001, verbose=0,\n",
              "                   warm_start=False)"
            ]
          },
          "metadata": {
            "tags": []
          },
          "execution_count": 108
        }
      ]
    },
    {
      "cell_type": "code",
      "metadata": {
        "id": "YXiSC_9ZQ0NZ",
        "colab_type": "code",
        "outputId": "f0372d7c-d0e4-4c2e-b3ff-02247bc96c32",
        "colab": {
          "base_uri": "https://localhost:8080/",
          "height": 36
        }
      },
      "source": [
        "lr_clf.score(test_features, test_labels)"
      ],
      "execution_count": 0,
      "outputs": [
        {
          "output_type": "execute_result",
          "data": {
            "text/plain": [
              "0.830635838150289"
            ]
          },
          "metadata": {
            "tags": []
          },
          "execution_count": 109
        }
      ]
    },
    {
      "cell_type": "markdown",
      "metadata": {
        "id": "w_eM49cYasCB",
        "colab_type": "text"
      },
      "source": [
        " For reference, the highest accuracy score for this dataset is currently 96.8. DistilBERT can be trained to improve its score on this task – a process called fine-tuning which updates BERT’s weights to make it achieve a better performance in this sentence classification task (which we can call the downstream task). The fine-tuned DistilBERT turns out to achieve an accuracy score of 90.7. The full size BERT model achieves 94.9."
      ]
    }
  ]
}