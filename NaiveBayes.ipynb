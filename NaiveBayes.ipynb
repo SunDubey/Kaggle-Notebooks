{
  "nbformat": 4,
  "nbformat_minor": 0,
  "metadata": {
    "colab": {
      "name": "NaiveBayes.ipynb",
      "provenance": [],
      "machine_shape": "hm",
      "authorship_tag": "ABX9TyPea3L6RJbzMQpKmaoC1BRA",
      "include_colab_link": true
    },
    "kernelspec": {
      "name": "python3",
      "display_name": "Python 3"
    }
  },
  "cells": [
    {
      "cell_type": "markdown",
      "metadata": {
        "id": "view-in-github",
        "colab_type": "text"
      },
      "source": [
        "<a href=\"https://colab.research.google.com/github/sahibpreetsingh12/Kaggle-Notebooks/blob/master/NaiveBayes.ipynb\" target=\"_parent\"><img src=\"https://colab.research.google.com/assets/colab-badge.svg\" alt=\"Open In Colab\"/></a>"
      ]
    },
    {
      "cell_type": "markdown",
      "metadata": {
        "id": "5MeDK4xtsvqC",
        "colab_type": "text"
      },
      "source": [
        "# Importing Necessary Libraries"
      ]
    },
    {
      "cell_type": "code",
      "metadata": {
        "id": "x07i0dMaKkKQ",
        "colab_type": "code",
        "colab": {}
      },
      "source": [
        "import pandas as pd\n",
        "import numpy as np\n",
        "\n",
        "from sklearn.datasets import fetch_20newsgroups\n",
        "twenty_train = fetch_20newsgroups(subset='train', shuffle=True)\n"
      ],
      "execution_count": 0,
      "outputs": []
    },
    {
      "cell_type": "markdown",
      "metadata": {
        "id": "_pbdT-Q2s2z5",
        "colab_type": "text"
      },
      "source": [
        ""
      ]
    },
    {
      "cell_type": "markdown",
      "metadata": {
        "id": "WIlPmLMks3K_",
        "colab_type": "text"
      },
      "source": [
        "# Converting Dataset to DataFrame"
      ]
    },
    {
      "cell_type": "code",
      "metadata": {
        "id": "nantmrUMLhJZ",
        "colab_type": "code",
        "colab": {
          "base_uri": "https://localhost:8080/",
          "height": 397
        },
        "outputId": "184d9623-a595-444b-d217-dd61014f1ee4"
      },
      "source": [
        "twenty_train.target_names #prints all the categories\n",
        "final_target=dict(zip(list(range(len(list(twenty_train.target_names)))),twenty_train.target_names))\n",
        "final_target\n",
        "# print(\"\\n\".join(twenty_train.data[0].split(\"\\n\")[:3])) #prints first line of the first data file"
      ],
      "execution_count": 24,
      "outputs": [
        {
          "output_type": "execute_result",
          "data": {
            "text/plain": [
              "{0: 'alt.atheism',\n",
              " 1: 'comp.graphics',\n",
              " 2: 'comp.os.ms-windows.misc',\n",
              " 3: 'comp.sys.ibm.pc.hardware',\n",
              " 4: 'comp.sys.mac.hardware',\n",
              " 5: 'comp.windows.x',\n",
              " 6: 'misc.forsale',\n",
              " 7: 'rec.autos',\n",
              " 8: 'rec.motorcycles',\n",
              " 9: 'rec.sport.baseball',\n",
              " 10: 'rec.sport.hockey',\n",
              " 11: 'sci.crypt',\n",
              " 12: 'sci.electronics',\n",
              " 13: 'sci.med',\n",
              " 14: 'sci.space',\n",
              " 15: 'soc.religion.christian',\n",
              " 16: 'talk.politics.guns',\n",
              " 17: 'talk.politics.mideast',\n",
              " 18: 'talk.politics.misc',\n",
              " 19: 'talk.religion.misc'}"
            ]
          },
          "metadata": {
            "tags": []
          },
          "execution_count": 24
        }
      ]
    },
    {
      "cell_type": "code",
      "metadata": {
        "id": "FwGVtx3oMLXM",
        "colab_type": "code",
        "colab": {}
      },
      "source": [
        "data1 = pd.DataFrame(data= np.c_[twenty_train['data'], twenty_train['target']],\n",
        "                     columns= ['feature_names','target'])"
      ],
      "execution_count": 0,
      "outputs": []
    },
    {
      "cell_type": "code",
      "metadata": {
        "id": "IzgeFKzETDON",
        "colab_type": "code",
        "colab": {
          "base_uri": "https://localhost:8080/",
          "height": 55
        },
        "outputId": "4b0ea2bf-e660-44f8-c59f-fba004aee5fe"
      },
      "source": [
        "data1['target'].unique()"
      ],
      "execution_count": 27,
      "outputs": [
        {
          "output_type": "execute_result",
          "data": {
            "text/plain": [
              "array(['7', '4', '1', '14', '16', '13', '3', '2', '8', '19', '6', '0',\n",
              "       '12', '5', '10', '9', '15', '17', '18', '11'], dtype=object)"
            ]
          },
          "metadata": {
            "tags": []
          },
          "execution_count": 27
        }
      ]
    },
    {
      "cell_type": "markdown",
      "metadata": {
        "id": "QufnM_tBtAkW",
        "colab_type": "text"
      },
      "source": [
        "# TFIDF over Text Data"
      ]
    },
    {
      "cell_type": "code",
      "metadata": {
        "id": "kyg7K8y_N2rT",
        "colab_type": "code",
        "colab": {
          "base_uri": "https://localhost:8080/",
          "height": 150
        },
        "outputId": "73245acd-b66d-4e1c-cd69-a300e19c47e4"
      },
      "source": [
        "data=data1.copy()\n",
        "print(data.head())\n",
        "from sklearn.feature_extraction.text import TfidfVectorizer\n",
        "tfidf = TfidfVectorizer(stop_words='english')\n",
        "X_train_tfidf = tfidf.fit_transform(data['feature_names'])\n",
        "X_train_tfidf.shape"
      ],
      "execution_count": 28,
      "outputs": [
        {
          "output_type": "stream",
          "text": [
            "                                       feature_names target\n",
            "0  From: lerxst@wam.umd.edu (where's my thing)\\nS...      7\n",
            "1  From: guykuo@carson.u.washington.edu (Guy Kuo)...      4\n",
            "2  From: twillis@ec.ecn.purdue.edu (Thomas E Will...      4\n",
            "3  From: jgreen@amber (Joe Green)\\nSubject: Re: W...      1\n",
            "4  From: jcm@head-cfa.harvard.edu (Jonathan McDow...     14\n"
          ],
          "name": "stdout"
        },
        {
          "output_type": "execute_result",
          "data": {
            "text/plain": [
              "(11314, 129796)"
            ]
          },
          "metadata": {
            "tags": []
          },
          "execution_count": 28
        }
      ]
    },
    {
      "cell_type": "markdown",
      "metadata": {
        "id": "dAC8UncetITw",
        "colab_type": "text"
      },
      "source": [
        "# Naive Bayes Model"
      ]
    },
    {
      "cell_type": "code",
      "metadata": {
        "id": "hWGzauhjPS7W",
        "colab_type": "code",
        "colab": {}
      },
      "source": [
        "from sklearn.naive_bayes import MultinomialNB\n",
        "clf = MultinomialNB().fit(X_train_tfidf, data.target)\n"
      ],
      "execution_count": 0,
      "outputs": []
    },
    {
      "cell_type": "markdown",
      "metadata": {
        "id": "KWEMjnxptMZd",
        "colab_type": "text"
      },
      "source": [
        "# Getting Test Data"
      ]
    },
    {
      "cell_type": "code",
      "metadata": {
        "id": "IE6rKWzCO6_q",
        "colab_type": "code",
        "colab": {
          "base_uri": "https://localhost:8080/",
          "height": 36
        },
        "outputId": "b4df295c-3166-47ef-874a-6edb0776f7b0"
      },
      "source": [
        "twenty_test = fetch_20newsgroups(subset='test', shuffle=True)\n",
        "data2 = pd.DataFrame(data= np.c_[twenty_test['data']],\n",
        "                     columns= ['feature_names'])\n",
        "x_test=tfidf.transform(data2.feature_names)\n",
        "x_test.shape"
      ],
      "execution_count": 30,
      "outputs": [
        {
          "output_type": "execute_result",
          "data": {
            "text/plain": [
              "(7532, 129796)"
            ]
          },
          "metadata": {
            "tags": []
          },
          "execution_count": 30
        }
      ]
    },
    {
      "cell_type": "code",
      "metadata": {
        "id": "8X7pL8CVRSKl",
        "colab_type": "code",
        "colab": {
          "base_uri": "https://localhost:8080/",
          "height": 55
        },
        "outputId": "85727fa2-3d3c-4a68-d0e8-0761e83ff3d4"
      },
      "source": [
        "x_test"
      ],
      "execution_count": 37,
      "outputs": [
        {
          "output_type": "execute_result",
          "data": {
            "text/plain": [
              "<7532x129796 sparse matrix of type '<class 'numpy.float64'>'\n",
              "\twith 784333 stored elements in Compressed Sparse Row format>"
            ]
          },
          "metadata": {
            "tags": []
          },
          "execution_count": 37
        }
      ]
    },
    {
      "cell_type": "markdown",
      "metadata": {
        "id": "dkkRaVZxtS0T",
        "colab_type": "text"
      },
      "source": [
        "# To Test Over Custom Data"
      ]
    },
    {
      "cell_type": "code",
      "metadata": {
        "id": "OTwPvJqwQ9Ct",
        "colab_type": "code",
        "colab": {
          "base_uri": "https://localhost:8080/",
          "height": 36
        },
        "outputId": "c826f64a-fd2c-41e7-aa37-47a734ee7456"
      },
      "source": [
        "\n",
        "text_doc=pd.DataFrame()\n",
        "\n",
        "text=['he is playong footballl and operating windows with hockey','He killed jeremy']\n",
        "text_doc['data']=text\n",
        "\n",
        "cheker=tfidf.transform(text_doc['data']) # converting data to tfidf \n",
        "\n",
        "predicted = clf.predict(cheker)\n",
        "\n",
        "print(final_target[int(predicted[0][0])]) # to see the class of first text\n"
      ],
      "execution_count": 41,
      "outputs": [
        {
          "output_type": "stream",
          "text": [
            "comp.os.ms-windows.misc\n"
          ],
          "name": "stdout"
        }
      ]
    },
    {
      "cell_type": "code",
      "metadata": {
        "id": "S6jjTGFBTy5f",
        "colab_type": "code",
        "colab": {
          "base_uri": "https://localhost:8080/",
          "height": 169
        },
        "outputId": "ac8eaee7-f152-45f6-8317-c9ba8ad5259e"
      },
      "source": [
        "# to get accuracy\n",
        "predicted_test=clf.predict(x_test)\n",
        "\n",
        "predicted_test=[str(value) for value in predicted_test]\n",
        "print(predicted_test[:2])\n",
        "actual_prediction=[str(value) for value in list(twenty_test.target)]\n",
        "print(actual_prediction[:2])\n",
        "\n",
        "# to predict probabiliteis of all classes\n",
        "proba=clf.predict_proba(x_test[:3])\n",
        "print(proba[0])\n",
        "# to print class with maximum probability and it's index\n",
        "index_highest=np.where(proba[0]==np.amax(proba[0]))[0]# to get index of highest class\n",
        "\n",
        "print(np.amax(proba[0]),index_highest)\n",
        "\n",
        "print(final_target[index_highest[0]])# to get class name for prediction"
      ],
      "execution_count": 42,
      "outputs": [
        {
          "output_type": "stream",
          "text": [
            "['7', '1']\n",
            "['7', '5']\n",
            "[0.022056   0.04770719 0.09997738 0.02504486 0.07910344 0.03788335\n",
            " 0.05144032 0.02918815 0.0381958  0.02325234 0.02045424 0.02876315\n",
            " 0.03211126 0.05895077 0.04818659 0.02966304 0.04324192 0.16016333\n",
            " 0.05246421 0.07215264]\n",
            "0.1601633303453614 [17]\n",
            "talk.politics.mideast\n"
          ],
          "name": "stdout"
        }
      ]
    },
    {
      "cell_type": "code",
      "metadata": {
        "id": "HR083JWQkl5K",
        "colab_type": "code",
        "colab": {
          "base_uri": "https://localhost:8080/",
          "height": 36
        },
        "outputId": "2cdf8b3f-acb2-4215-97d5-bc0dec2fea13"
      },
      "source": [
        "from sklearn.metrics import accuracy_score as acc\n",
        "print(acc(actual_prediction,predicted_test))"
      ],
      "execution_count": 16,
      "outputs": [
        {
          "output_type": "stream",
          "text": [
            "0.8169144981412639\n"
          ],
          "name": "stdout"
        }
      ]
    },
    {
      "cell_type": "markdown",
      "metadata": {
        "id": "nXOgSfncuhf9",
        "colab_type": "text"
      },
      "source": [
        "SOurces\n",
        "# Best Material\n",
        "[Naive Bayes](https://jakevdp.github.io/PythonDataScienceHandbook/05.05-naive-bayes.html)\n"
      ]
    },
    {
      "cell_type": "code",
      "metadata": {
        "id": "e02Znu0DuqQ-",
        "colab_type": "code",
        "colab": {}
      },
      "source": [
        ""
      ],
      "execution_count": 0,
      "outputs": []
    }
  ]
}